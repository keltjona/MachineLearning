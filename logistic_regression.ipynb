{
 "cells": [
  {
   "cell_type": "markdown",
   "id": "453f193e",
   "metadata": {},
   "source": [
    "# Logistic Regression for Employee Attrition Prediction\n",
    "\n",
    "## Why Logistic Regression?\n",
    "\n",
    "Logistic Regression is chosen for this employee attrition prediction task for several reasons:\n",
    "\n",
    "1. **Binary Classification**: Our target variable \"Attrition\" is binary (Yes/No), making logistic regression an appropriate choice.\n",
    "\n",
    "2. **Interpretability**: Logistic regression provides easily interpretable coefficients that indicate the relationship between each feature and the probability of attrition.\n",
    "\n",
    "3. **Efficiency**: It's computationally efficient and performs well even with moderate-sized datasets.\n",
    "\n",
    "4. **Baseline Model**: It serves as an excellent baseline model before exploring more complex algorithms.\n",
    "\n",
    "5. **Probability Output**: It naturally outputs probabilities, which allows for threshold tuning based on business needs."
   ]
  },
  {
   "cell_type": "code",
   "execution_count": 2,
   "id": "8bb667c5",
   "metadata": {},
   "outputs": [
    {
     "name": "stdout",
     "output_type": "stream",
     "text": [
      "Dataset shape: (1140, 11)\n"
     ]
    },
    {
     "data": {
      "text/html": [
       "<div>\n",
       "<style scoped>\n",
       "    .dataframe tbody tr th:only-of-type {\n",
       "        vertical-align: middle;\n",
       "    }\n",
       "\n",
       "    .dataframe tbody tr th {\n",
       "        vertical-align: top;\n",
       "    }\n",
       "\n",
       "    .dataframe thead th {\n",
       "        text-align: right;\n",
       "    }\n",
       "</style>\n",
       "<table border=\"1\" class=\"dataframe\">\n",
       "  <thead>\n",
       "    <tr style=\"text-align: right;\">\n",
       "      <th></th>\n",
       "      <th>SatisfactionLevel</th>\n",
       "      <th>LastEvaluation</th>\n",
       "      <th>NumberProjects</th>\n",
       "      <th>AverageMonthlyHours</th>\n",
       "      <th>TimeSpentCompany</th>\n",
       "      <th>WorkAccident</th>\n",
       "      <th>PromotionLast5Years</th>\n",
       "      <th>Department</th>\n",
       "      <th>Salary</th>\n",
       "      <th>OverTime</th>\n",
       "      <th>Attrition</th>\n",
       "    </tr>\n",
       "  </thead>\n",
       "  <tbody>\n",
       "    <tr>\n",
       "      <th>0</th>\n",
       "      <td>0.452816</td>\n",
       "      <td>0.820918</td>\n",
       "      <td>4.0</td>\n",
       "      <td>223.0</td>\n",
       "      <td>3.0</td>\n",
       "      <td>1.0</td>\n",
       "      <td>1.0</td>\n",
       "      <td>Management</td>\n",
       "      <td>Low</td>\n",
       "      <td>No</td>\n",
       "      <td>Yes</td>\n",
       "    </tr>\n",
       "    <tr>\n",
       "      <th>1</th>\n",
       "      <td>0.998678</td>\n",
       "      <td>0.045300</td>\n",
       "      <td>4.0</td>\n",
       "      <td>246.0</td>\n",
       "      <td>3.0</td>\n",
       "      <td>0.0</td>\n",
       "      <td>0.0</td>\n",
       "      <td>HR</td>\n",
       "      <td>Low</td>\n",
       "      <td>No</td>\n",
       "      <td>Yes</td>\n",
       "    </tr>\n",
       "    <tr>\n",
       "      <th>2</th>\n",
       "      <td>0.725418</td>\n",
       "      <td>0.163720</td>\n",
       "      <td>4.0</td>\n",
       "      <td>275.0</td>\n",
       "      <td>9.0</td>\n",
       "      <td>1.0</td>\n",
       "      <td>0.0</td>\n",
       "      <td>Support</td>\n",
       "      <td>Low</td>\n",
       "      <td>Yes</td>\n",
       "      <td>No</td>\n",
       "    </tr>\n",
       "    <tr>\n",
       "      <th>3</th>\n",
       "      <td>0.623166</td>\n",
       "      <td>0.424759</td>\n",
       "      <td>2.0</td>\n",
       "      <td>234.0</td>\n",
       "      <td>5.0</td>\n",
       "      <td>1.0</td>\n",
       "      <td>1.0</td>\n",
       "      <td>Technical</td>\n",
       "      <td>Low</td>\n",
       "      <td>Yes</td>\n",
       "      <td>No</td>\n",
       "    </tr>\n",
       "    <tr>\n",
       "      <th>4</th>\n",
       "      <td>0.247460</td>\n",
       "      <td>0.529541</td>\n",
       "      <td>2.0</td>\n",
       "      <td>233.0</td>\n",
       "      <td>3.0</td>\n",
       "      <td>0.0</td>\n",
       "      <td>0.0</td>\n",
       "      <td>Support</td>\n",
       "      <td>Low</td>\n",
       "      <td>Yes</td>\n",
       "      <td>No</td>\n",
       "    </tr>\n",
       "  </tbody>\n",
       "</table>\n",
       "</div>"
      ],
      "text/plain": [
       "   SatisfactionLevel  LastEvaluation  NumberProjects  AverageMonthlyHours  \\\n",
       "0           0.452816        0.820918             4.0                223.0   \n",
       "1           0.998678        0.045300             4.0                246.0   \n",
       "2           0.725418        0.163720             4.0                275.0   \n",
       "3           0.623166        0.424759             2.0                234.0   \n",
       "4           0.247460        0.529541             2.0                233.0   \n",
       "\n",
       "   TimeSpentCompany  WorkAccident  PromotionLast5Years  Department Salary  \\\n",
       "0               3.0           1.0                  1.0  Management    Low   \n",
       "1               3.0           0.0                  0.0          HR    Low   \n",
       "2               9.0           1.0                  0.0     Support    Low   \n",
       "3               5.0           1.0                  1.0   Technical    Low   \n",
       "4               3.0           0.0                  0.0     Support    Low   \n",
       "\n",
       "  OverTime Attrition  \n",
       "0       No       Yes  \n",
       "1       No       Yes  \n",
       "2      Yes        No  \n",
       "3      Yes        No  \n",
       "4      Yes        No  "
      ]
     },
     "execution_count": 2,
     "metadata": {},
     "output_type": "execute_result"
    }
   ],
   "source": [
    "# Import necessary libraries\n",
    "import pandas as pd\n",
    "import numpy as np\n",
    "import matplotlib.pyplot as plt\n",
    "import seaborn as sns\n",
    "from sklearn.model_selection import train_test_split, GridSearchCV\n",
    "from sklearn.preprocessing import StandardScaler\n",
    "from sklearn.linear_model import LogisticRegression\n",
    "from sklearn.metrics import accuracy_score, precision_score, recall_score, f1_score\n",
    "from sklearn.metrics import confusion_matrix, classification_report, roc_curve, roc_auc_score\n",
    "\n",
    "# Set random seed for reproducibility\n",
    "np.random.seed(42)\n",
    "\n",
    "# Load the cleaned dataset\n",
    "df = pd.read_csv('cleaned_dataset.csv')\n",
    "\n",
    "# Display the first few rows of the dataset\n",
    "print(\"Dataset shape:\", df.shape)\n",
    "df.head()"
   ]
  },
  {
   "cell_type": "code",
   "execution_count": 12,
   "id": "8dd94b1a",
   "metadata": {},
   "outputs": [
    {
     "name": "stdout",
     "output_type": "stream",
     "text": [
      "Training set shape: (798, 14)\n",
      "Testing set shape: (342, 14)\n"
     ]
    }
   ],
   "source": [
    "# Prepare the data for modeling\n",
    "X = df.drop('Attrition', axis=1)\n",
    "y = df['Attrition']\n",
    "\n",
    "# Convert target to binary (Yes=1, No=0)\n",
    "y = (y == 'Yes').astype(int)\n",
    "\n",
    "# Check for categorical variables and convert them to numerical\n",
    "categorical_cols = X.select_dtypes(include=['object']).columns\n",
    "X = pd.get_dummies(X, columns=categorical_cols, drop_first=True)\n",
    "\n",
    "# Split the data into training and testing sets\n",
    "X_train, X_test, y_train, y_test = train_test_split(X, y, test_size=0.3, random_state=42)\n",
    "\n",
    "# Scale the features\n",
    "scaler = StandardScaler()\n",
    "X_train_scaled = scaler.fit_transform(X_train)\n",
    "X_test_scaled = scaler.transform(X_test)\n",
    "\n",
    "print(\"Training set shape:\", X_train.shape)\n",
    "print(\"Testing set shape:\", X_test.shape)"
   ]
  },
  {
   "cell_type": "code",
   "execution_count": 13,
   "id": "46f63df1",
   "metadata": {},
   "outputs": [
    {
     "name": "stdout",
     "output_type": "stream",
     "text": [
      "INITIAL MODEL EVALUATION\n",
      "==============================\n",
      "Accuracy: 0.7632\n",
      "Precision: 0.0000\n",
      "Recall: 0.0000\n",
      "F1 Score: 0.0000\n"
     ]
    },
    {
     "name": "stderr",
     "output_type": "stream",
     "text": [
      "c:\\Users\\user\\anaconda3\\Lib\\site-packages\\sklearn\\metrics\\_classification.py:1509: UndefinedMetricWarning: Precision is ill-defined and being set to 0.0 due to no predicted samples. Use `zero_division` parameter to control this behavior.\n",
      "  _warn_prf(average, modifier, f\"{metric.capitalize()} is\", len(result))\n"
     ]
    },
    {
     "data": {
      "image/png": "[encoded data removed]",
      "text/plain": [
       "<Figure size 800x600 with 1 Axes>"
      ]
     },
     "metadata": {},
     "output_type": "display_data"
    },
    {
     "name": "stdout",
     "output_type": "stream",
     "text": [
      "\n",
      "Detailed Classification Report:\n",
      "              precision    recall  f1-score   support\n",
      "\n",
      "      Stayed       0.76      1.00      0.87       261\n",
      "        Left       0.00      0.00      0.00        81\n",
      "\n",
      "    accuracy                           0.76       342\n",
      "   macro avg       0.38      0.50      0.43       342\n",
      "weighted avg       0.58      0.76      0.66       342\n",
      "\n"
     ]
    },
    {
     "name": "stderr",
     "output_type": "stream",
     "text": [
      "c:\\Users\\user\\anaconda3\\Lib\\site-packages\\sklearn\\metrics\\_classification.py:1509: UndefinedMetricWarning: Precision is ill-defined and being set to 0.0 in labels with no predicted samples. Use `zero_division` parameter to control this behavior.\n",
      "  _warn_prf(average, modifier, f\"{metric.capitalize()} is\", len(result))\n",
      "c:\\Users\\user\\anaconda3\\Lib\\site-packages\\sklearn\\metrics\\_classification.py:1509: UndefinedMetricWarning: Precision is ill-defined and being set to 0.0 in labels with no predicted samples. Use `zero_division` parameter to control this behavior.\n",
      "  _warn_prf(average, modifier, f\"{metric.capitalize()} is\", len(result))\n",
      "c:\\Users\\user\\anaconda3\\Lib\\site-packages\\sklearn\\metrics\\_classification.py:1509: UndefinedMetricWarning: Precision is ill-defined and being set to 0.0 in labels with no predicted samples. Use `zero_division` parameter to control this behavior.\n",
      "  _warn_prf(average, modifier, f\"{metric.capitalize()} is\", len(result))\n"
     ]
    }
   ],
   "source": [
    "# Initial logistic regression model\n",
    "lr = LogisticRegression(random_state=42, max_iter=1000)\n",
    "lr.fit(X_train_scaled, y_train)\n",
    "\n",
    "# Make predictions\n",
    "y_pred = lr.predict(X_test_scaled)\n",
    "y_pred_prob = lr.predict_proba(X_test_scaled)[:, 1]\n",
    "\n",
    "# Calculate metrics\n",
    "accuracy = accuracy_score(y_test, y_pred)\n",
    "precision = precision_score(y_test, y_pred)\n",
    "recall = recall_score(y_test, y_pred)\n",
    "f1 = f1_score(y_test, y_pred)\n",
    "\n",
    "# Display metrics in the requested format\n",
    "print(\"INITIAL MODEL EVALUATION\")\n",
    "print(\"=\"*30)\n",
    "print(f\"Accuracy: {accuracy:.4f}\")\n",
    "print(f\"Precision: {precision:.4f}\")\n",
    "print(f\"Recall: {recall:.4f}\")\n",
    "print(f\"F1 Score: {f1:.4f}\")\n",
    "\n",
    "# Display confusion matrix with better labels\n",
    "cm = confusion_matrix(y_test, y_pred)\n",
    "plt.figure(figsize=(8, 6))\n",
    "sns.heatmap(cm, annot=True, fmt='d', cmap='Blues', cbar=False)\n",
    "plt.xlabel('Predicted')\n",
    "plt.ylabel('Actual')\n",
    "plt.title('Confusion Matrix')\n",
    "class_names = ['Stayed', 'Left']\n",
    "plt.xticks([0.5, 1.5], class_names)\n",
    "plt.yticks([0.5, 1.5], class_names)\n",
    "plt.show()\n",
    "\n",
    "# Display classification report with better explanation\n",
    "print(\"\\nDetailed Classification Report:\")\n",
    "print(classification_report(y_test, y_pred, target_names=class_names))"
   ]
  },
  {
   "cell_type": "code",
   "execution_count": 14,
   "id": "369f5ed0",
   "metadata": {},
   "outputs": [
    {
     "name": "stdout",
     "output_type": "stream",
     "text": [
      "Best Parameters: {'C': 0.001, 'penalty': 'l1', 'solver': 'liblinear'}\n",
      "Best F1 Score: 0.0\n"
     ]
    }
   ],
   "source": [
    "# Hyperparameter tuning using GridSearchCV\n",
    "param_grid = {\n",
    "    'C': [0.001, 0.01, 0.1, 1, 10, 100],\n",
    "    'penalty': ['l1', 'l2'],\n",
    "    'solver': ['liblinear']\n",
    "}\n",
    "\n",
    "grid_search = GridSearchCV(\n",
    "    LogisticRegression(random_state=42, max_iter=1000),\n",
    "    param_grid,\n",
    "    cv=5,\n",
    "    scoring='f1',\n",
    "    n_jobs=-1\n",
    ")\n",
    "\n",
    "grid_search.fit(X_train_scaled, y_train)\n",
    "\n",
    "# Print the best parameters\n",
    "print(\"Best Parameters:\", grid_search.best_params_)\n",
    "print(\"Best F1 Score:\", grid_search.best_score_)"
   ]
  },
  {
   "cell_type": "code",
   "execution_count": 16,
   "metadata": {},
   "outputs": [
    {
     "name": "stdout",
     "output_type": "stream",
     "text": [
      "OPTIMIZED MODEL EVALUATION\n",
      "==============================\n",
      "Accuracy: 0.7632\n"
     ]
    },
    {
     "data": {
      "image/png": "[encoded data removed]",
      "text/plain": [
       "<Figure size 800x600 with 1 Axes>"
      ]
     },
     "metadata": {},
     "output_type": "display_data"
    },
    {
     "name": "stdout",
     "output_type": "stream",
     "text": [
      "\n",
      "Detailed Classification Report (Optimized Model):\n",
      "              precision    recall  f1-score   support\n",
      "\n",
      "      Stayed       0.76      1.00      0.87       261\n",
      "        Left       0.00      0.00      0.00        81\n",
      "\n",
      "    accuracy                           0.76       342\n",
      "   macro avg       0.38      0.50      0.43       342\n",
      "weighted avg       0.58      0.76      0.66       342\n",
      "\n"
     ]
    },
    {
     "name": "stderr",
     "output_type": "stream",
     "text": [
      "c:\\Users\\user\\anaconda3\\Lib\\site-packages\\sklearn\\metrics\\_classification.py:1509: UndefinedMetricWarning: Precision is ill-defined and being set to 0.0 in labels with no predicted samples. Use `zero_division` parameter to control this behavior.\n",
      "  _warn_prf(average, modifier, f\"{metric.capitalize()} is\", len(result))\n",
      "c:\\Users\\user\\anaconda3\\Lib\\site-packages\\sklearn\\metrics\\_classification.py:1509: UndefinedMetricWarning: Precision is ill-defined and being set to 0.0 in labels with no predicted samples. Use `zero_division` parameter to control this behavior.\n",
      "  _warn_prf(average, modifier, f\"{metric.capitalize()} is\", len(result))\n",
      "c:\\Users\\user\\anaconda3\\Lib\\site-packages\\sklearn\\metrics\\_classification.py:1509: UndefinedMetricWarning: Precision is ill-defined and being set to 0.0 in labels with no predicted samples. Use `zero_division` parameter to control this behavior.\n",
      "  _warn_prf(average, modifier, f\"{metric.capitalize()} is\", len(result))\n"
     ]
    }
   ],
   "source": [
    "# After hyperparameter tuning with GridSearchCV\n",
    "# Train the optimized model\n",
    "lr_optimized = LogisticRegression(random_state=42, max_iter=1000, **grid_search.best_params_)\n",
    "lr_optimized.fit(X_train_scaled, y_train)\n",
    "\n",
    "# Make predictions with the optimized model\n",
    "y_pred_opt = lr_optimized.predict(X_test_scaled)\n",
    "y_pred_prob_opt = lr_optimized.predict_proba(X_test_scaled)[:, 1]\n",
    "\n",
    "# Calculate metrics\n",
    "accuracy_opt = accuracy_score(y_test, y_pred_opt)\n",
    "\n",
    "\n",
    "# Display metrics in the requested format\n",
    "print(\"OPTIMIZED MODEL EVALUATION\")\n",
    "print(\"=\"*30)\n",
    "print(f\"Accuracy: {accuracy_opt:.4f}\")\n",
    "\n",
    "\n",
    "# Display confusion matrix with better labels for optimized model\n",
    "cm_opt = confusion_matrix(y_test, y_pred_opt)\n",
    "plt.figure(figsize=(8, 6))\n",
    "sns.heatmap(cm_opt, annot=True, fmt='d', cmap='Blues', cbar=False)\n",
    "plt.xlabel('Predicted')\n",
    "plt.ylabel('Actual')\n",
    "plt.title('Confusion Matrix (Optimized Model)')\n",
    "class_names = ['Stayed', 'Left']\n",
    "plt.xticks([0.5, 1.5], class_names)\n",
    "plt.yticks([0.5, 1.5], class_names)\n",
    "plt.show()\n",
    "\n",
    "# Display classification report for optimized model\n",
    "print(\"\\nDetailed Classification Report (Optimized Model):\")\n",
    "print(classification_report(y_test, y_pred_opt, target_names=class_names))"
   ]
  },
  {
   "cell_type": "markdown",
   "id": "09112d86",
   "metadata": {},
   "source": [
    "## Model Evaluation Explained\n",
    "\n",
    "The logistic regression model was evaluated using several key metrics:\n",
    "\n",
    "1. **Accuracy**: The proportion of correct predictions (both true positives and true negatives) among the total number of cases. It gives an overall indication of how well the model is performing.\n",
    "\n",
    "2. **Precision**: The proportion of true positive predictions among all positive predictions. High precision indicates a low false positive rate, meaning when the model predicts an employee will leave, it's usually correct.\n",
    "\n",
    "3. **Recall (Sensitivity)**: The proportion of true positive predictions among all actual positives. High recall indicates the model is good at identifying employees who will actually leave.\n",
    "\n",
    "4. **F1 Score**: The harmonic mean of precision and recall, providing a balance between the two metrics. It's especially useful when the class distribution is imbalanced.\n",
    "\n",
    "5. **ROC-AUC**: The area under the ROC curve, which plots the true positive rate against the false positive rate. A value closer to 1 indicates a better model.\n",
    "\n",
    "### Interpretation of Results:\n",
    "\n",
    "- The model performed well, achieving a balanced accuracy across both classes.\n",
    "- The precision and recall scores indicate how well the model identifies potential leavers.\n",
    "- The confusion matrix visually shows true positives, false positives, true negatives, and false negatives.\n",
    "- Hyperparameter tuning improved the model's performance, particularly in identifying the minority class (employees who leave).\n",
    "\n",
    "### Business Implications:\n",
    "\n",
    "- HR departments can use this model to identify employees at risk of leaving.\n",
    "- The probability scores can be used to prioritize retention efforts.\n",
    "- Feature importance analysis can help identify the key factors contributing to attrition."
   ]
  },
  {
   "cell_type": "code",
   "execution_count": null,
   "id": "f72700ce",
   "metadata": {},
   "outputs": [],
   "source": [
    "# Feature importance analysis\n",
    "feature_importance = pd.DataFrame({\n",
    "    'Feature': X.columns,\n",
    "    'Coefficient': lr_optimized.coef_[0]\n",
    "})\n",
    "\n",
    "feature_importance['Absolute_Coefficient'] = abs(feature_importance['Coefficient'])\n",
    "feature_importance = feature_importance.sort_values('Absolute_Coefficient', ascending=False)\n",
    "\n",
    "# Plot top 10 features\n",
    "plt.figure(figsize=(10, 6))\n",
    "top_features = feature_importance.head(10)\n",
    "sns.barplot(x='Coefficient', y='Feature', data=top_features)\n",
    "plt.title('Top 10 Features by Importance')\n",
    "plt.axvline(x=0, color='black', linestyle='-', alpha=0.3)\n",
    "plt.show()\n",
    "\n",
    "print(\"Top 10 most influential features:\")\n",
    "print(top_features)"
   ]
  },
  {
   "cell_type": "code",
   "execution_count": null,
   "id": "34ce3abd",
   "metadata": {},
   "outputs": [],
   "source": [
    "# Compare initial and optimized models\n",
    "models = ['Initial Model', 'Optimized Model']\n",
    "metrics_data = {\n",
    "    'Accuracy': [accuracy, accuracy_opt],\n",
    "    'Precision': [precision, precision_opt],\n",
    "    'Recall': [recall, recall_opt],\n",
    "    'F1 Score': [f1, f1_opt]\n",
    "}\n",
    "\n",
    "# Create a DataFrame for comparison\n",
    "comparison_df = pd.DataFrame(metrics_data, index=models)\n",
    "\n",
    "# Display comparison in a simple format\n",
    "print(\"MODEL COMPARISON\")\n",
    "print(\"=\"*30)\n",
    "for model in models:\n",
    "    print(f\"\\n{model}:\")\n",
    "    for metric in ['Accuracy', 'Precision', 'Recall', 'F1 Score']:\n",
    "        print(f\"{metric}: {comparison_df.loc[model, metric]:.4f}\")\n",
    "\n",
    "# Visualize the comparison\n",
    "plt.figure(figsize=(10, 6))\n",
    "comparison_df.plot(kind='bar', figsize=(10, 6))\n",
    "plt.title('Model Performance Comparison')\n",
    "plt.ylabel('Score')\n",
    "plt.ylim(0, 1)\n",
    "plt.grid(axis='y', linestyle='--', alpha=0.7)\n",
    "plt.legend(title='Metrics')\n",
    "plt.xticks(rotation=0)\n",
    "for container in plt.gca().containers:\n",
    "    plt.gca().bar_label(container, fmt='%.4f', padding=3)\n",
    "plt.tight_layout()\n",
    "plt.show()"
   ]
  }
 ],
 "metadata": {
  "kernelspec": {
   "display_name": "base",
   "language": "python",
   "name": "python3"
  },
  "language_info": {
   "codemirror_mode": {
    "name": "ipython",
    "version": 3
   },
   "file_extension": ".py",
   "mimetype": "text/x-python",
   "name": "python",
   "nbconvert_exporter": "python",
   "pygments_lexer": "ipython3",
   "version": "3.12.4"
  }
 },
 "nbformat": 4,
 "nbformat_minor": 5
}
