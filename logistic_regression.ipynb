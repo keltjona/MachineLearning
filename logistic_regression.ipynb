{
 "cells": [
  {
   "cell_type": "code",
   "execution_count": null,
   "metadata": {},
   "outputs": [],
   "source": [
    "# Train the optimized model\n",
    "lr_optimized = LogisticRegression(random_state=42, max_iter=1000, **grid_search.best_params_)\n",
    "lr_optimized.fit(X_train_scaled, y_train)\n",
    "\n",
    "# Make predictions with the optimized model\n",
    "y_pred_opt = lr_optimized.predict(X_test_scaled)"
   ]
  }
 ],
 "metadata": {
  "language_info": {
   "name": "python"
  }
 },
 "nbformat": 4,
 "nbformat_minor": 5
}
